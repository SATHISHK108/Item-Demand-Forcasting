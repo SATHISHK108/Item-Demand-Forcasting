{
 "cells": [
  {
   "cell_type": "code",
   "execution_count": 60,
   "id": "d27874cf",
   "metadata": {},
   "outputs": [],
   "source": [
    "import pandas as pd\n",
    "import matplotlib.pyplot as plt"
   ]
  },
  {
   "cell_type": "code",
   "execution_count": 61,
   "id": "cc73daee",
   "metadata": {},
   "outputs": [],
   "source": [
    "df = pd.read_csv('train 2.csv')"
   ]
  },
  {
   "cell_type": "code",
   "execution_count": 62,
   "id": "ab298421",
   "metadata": {},
   "outputs": [],
   "source": [
    "var_holder = {}     #creating separate dataframe for each item\n",
    "\n",
    "for i in range(1,51):\n",
    "    var_holder['item' + str(i)] = df[df['item']==i]\n",
    "    \n",
    "locals().update(var_holder)"
   ]
  },
  {
   "cell_type": "code",
   "execution_count": 63,
   "id": "c7860836",
   "metadata": {},
   "outputs": [],
   "source": [
    "df1 = pd.DataFrame(item1.groupby('date')['sales'].sum())  #taking item1"
   ]
  },
  {
   "cell_type": "code",
   "execution_count": 64,
   "id": "cd7fa6fc",
   "metadata": {},
   "outputs": [],
   "source": [
    "df1.reset_index(level=0,inplace=True)"
   ]
  },
  {
   "cell_type": "code",
   "execution_count": 65,
   "id": "7cc5e9df",
   "metadata": {},
   "outputs": [],
   "source": [
    "df1['date'] =  pd.to_datetime(df1['date'])"
   ]
  },
  {
   "cell_type": "code",
   "execution_count": 66,
   "id": "f55797ec",
   "metadata": {},
   "outputs": [],
   "source": [
    "var_holder = {}     #sales sum for next 90 days\n",
    " \n",
    "for i in range(len(df1)):\n",
    "    if len(df1[i:i+90]) ==90:\n",
    "        var_holder[df1['date'][i]] = df1['sales'][i:(i+90)].sum()\n",
    "    \n",
    "locals().update(var_holder)"
   ]
  },
  {
   "cell_type": "code",
   "execution_count": 67,
   "id": "1a67c0ac",
   "metadata": {},
   "outputs": [],
   "source": [
    "df2 = pd.DataFrame.from_dict(var_holder,orient ='index') #converting to dataframe from dict"
   ]
  },
  {
   "cell_type": "code",
   "execution_count": 68,
   "id": "301449a1",
   "metadata": {},
   "outputs": [
    {
     "data": {
      "text/html": [
       "<div>\n",
       "<style scoped>\n",
       "    .dataframe tbody tr th:only-of-type {\n",
       "        vertical-align: middle;\n",
       "    }\n",
       "\n",
       "    .dataframe tbody tr th {\n",
       "        vertical-align: top;\n",
       "    }\n",
       "\n",
       "    .dataframe thead th {\n",
       "        text-align: right;\n",
       "    }\n",
       "</style>\n",
       "<table border=\"1\" class=\"dataframe\">\n",
       "  <thead>\n",
       "    <tr style=\"text-align: right;\">\n",
       "      <th></th>\n",
       "      <th>0</th>\n",
       "    </tr>\n",
       "  </thead>\n",
       "  <tbody>\n",
       "    <tr>\n",
       "      <th>2013-01-01</th>\n",
       "      <td>12847</td>\n",
       "    </tr>\n",
       "    <tr>\n",
       "      <th>2013-01-02</th>\n",
       "      <td>12848</td>\n",
       "    </tr>\n",
       "    <tr>\n",
       "      <th>2013-01-03</th>\n",
       "      <td>12936</td>\n",
       "    </tr>\n",
       "    <tr>\n",
       "      <th>2013-01-04</th>\n",
       "      <td>13019</td>\n",
       "    </tr>\n",
       "    <tr>\n",
       "      <th>2013-01-05</th>\n",
       "      <td>13103</td>\n",
       "    </tr>\n",
       "  </tbody>\n",
       "</table>\n",
       "</div>"
      ],
      "text/plain": [
       "                0\n",
       "2013-01-01  12847\n",
       "2013-01-02  12848\n",
       "2013-01-03  12936\n",
       "2013-01-04  13019\n",
       "2013-01-05  13103"
      ]
     },
     "execution_count": 68,
     "metadata": {},
     "output_type": "execute_result"
    }
   ],
   "source": [
    "df2.head()"
   ]
  },
  {
   "cell_type": "code",
   "execution_count": 69,
   "id": "a27bfea5",
   "metadata": {},
   "outputs": [],
   "source": [
    "df2.reset_index(level=0,inplace=True)"
   ]
  },
  {
   "cell_type": "code",
   "execution_count": 70,
   "id": "3afe659a",
   "metadata": {},
   "outputs": [],
   "source": [
    "df2.columns = ['date','aggregated_sum_for_3months']"
   ]
  },
  {
   "cell_type": "code",
   "execution_count": 71,
   "id": "f3490108",
   "metadata": {},
   "outputs": [],
   "source": [
    "df2['year'] = pd.DatetimeIndex(df2['date']).year"
   ]
  },
  {
   "cell_type": "code",
   "execution_count": 72,
   "id": "3c347201",
   "metadata": {},
   "outputs": [],
   "source": [
    "df2['month'] = pd.DatetimeIndex(df2['date']).month"
   ]
  },
  {
   "cell_type": "code",
   "execution_count": 73,
   "id": "f30d6ef3",
   "metadata": {},
   "outputs": [
    {
     "data": {
      "text/html": [
       "<div>\n",
       "<style scoped>\n",
       "    .dataframe tbody tr th:only-of-type {\n",
       "        vertical-align: middle;\n",
       "    }\n",
       "\n",
       "    .dataframe tbody tr th {\n",
       "        vertical-align: top;\n",
       "    }\n",
       "\n",
       "    .dataframe thead th {\n",
       "        text-align: right;\n",
       "    }\n",
       "</style>\n",
       "<table border=\"1\" class=\"dataframe\">\n",
       "  <thead>\n",
       "    <tr style=\"text-align: right;\">\n",
       "      <th></th>\n",
       "      <th>date</th>\n",
       "      <th>aggregated_sum_for_3months</th>\n",
       "      <th>year</th>\n",
       "      <th>month</th>\n",
       "    </tr>\n",
       "  </thead>\n",
       "  <tbody>\n",
       "    <tr>\n",
       "      <th>0</th>\n",
       "      <td>2013-01-01</td>\n",
       "      <td>12847</td>\n",
       "      <td>2013</td>\n",
       "      <td>1</td>\n",
       "    </tr>\n",
       "    <tr>\n",
       "      <th>1</th>\n",
       "      <td>2013-01-02</td>\n",
       "      <td>12848</td>\n",
       "      <td>2013</td>\n",
       "      <td>1</td>\n",
       "    </tr>\n",
       "    <tr>\n",
       "      <th>2</th>\n",
       "      <td>2013-01-03</td>\n",
       "      <td>12936</td>\n",
       "      <td>2013</td>\n",
       "      <td>1</td>\n",
       "    </tr>\n",
       "    <tr>\n",
       "      <th>3</th>\n",
       "      <td>2013-01-04</td>\n",
       "      <td>13019</td>\n",
       "      <td>2013</td>\n",
       "      <td>1</td>\n",
       "    </tr>\n",
       "    <tr>\n",
       "      <th>4</th>\n",
       "      <td>2013-01-05</td>\n",
       "      <td>13103</td>\n",
       "      <td>2013</td>\n",
       "      <td>1</td>\n",
       "    </tr>\n",
       "  </tbody>\n",
       "</table>\n",
       "</div>"
      ],
      "text/plain": [
       "        date  aggregated_sum_for_3months  year  month\n",
       "0 2013-01-01                       12847  2013      1\n",
       "1 2013-01-02                       12848  2013      1\n",
       "2 2013-01-03                       12936  2013      1\n",
       "3 2013-01-04                       13019  2013      1\n",
       "4 2013-01-05                       13103  2013      1"
      ]
     },
     "execution_count": 73,
     "metadata": {},
     "output_type": "execute_result"
    }
   ],
   "source": [
    "df2.head()"
   ]
  },
  {
   "cell_type": "code",
   "execution_count": 74,
   "id": "199e6e91",
   "metadata": {},
   "outputs": [
    {
     "data": {
      "text/plain": [
       "(1737, 4)"
      ]
     },
     "execution_count": 74,
     "metadata": {},
     "output_type": "execute_result"
    }
   ],
   "source": [
    "df2.shape"
   ]
  },
  {
   "cell_type": "code",
   "execution_count": 75,
   "id": "81204a0c",
   "metadata": {},
   "outputs": [],
   "source": [
    "x = df2.iloc[:1461,2:]  #training values"
   ]
  },
  {
   "cell_type": "code",
   "execution_count": 76,
   "id": "871f36dd",
   "metadata": {},
   "outputs": [
    {
     "data": {
      "text/html": [
       "<div>\n",
       "<style scoped>\n",
       "    .dataframe tbody tr th:only-of-type {\n",
       "        vertical-align: middle;\n",
       "    }\n",
       "\n",
       "    .dataframe tbody tr th {\n",
       "        vertical-align: top;\n",
       "    }\n",
       "\n",
       "    .dataframe thead th {\n",
       "        text-align: right;\n",
       "    }\n",
       "</style>\n",
       "<table border=\"1\" class=\"dataframe\">\n",
       "  <thead>\n",
       "    <tr style=\"text-align: right;\">\n",
       "      <th></th>\n",
       "      <th>year</th>\n",
       "      <th>month</th>\n",
       "    </tr>\n",
       "  </thead>\n",
       "  <tbody>\n",
       "    <tr>\n",
       "      <th>1456</th>\n",
       "      <td>2016</td>\n",
       "      <td>12</td>\n",
       "    </tr>\n",
       "    <tr>\n",
       "      <th>1457</th>\n",
       "      <td>2016</td>\n",
       "      <td>12</td>\n",
       "    </tr>\n",
       "    <tr>\n",
       "      <th>1458</th>\n",
       "      <td>2016</td>\n",
       "      <td>12</td>\n",
       "    </tr>\n",
       "    <tr>\n",
       "      <th>1459</th>\n",
       "      <td>2016</td>\n",
       "      <td>12</td>\n",
       "    </tr>\n",
       "    <tr>\n",
       "      <th>1460</th>\n",
       "      <td>2016</td>\n",
       "      <td>12</td>\n",
       "    </tr>\n",
       "  </tbody>\n",
       "</table>\n",
       "</div>"
      ],
      "text/plain": [
       "      year  month\n",
       "1456  2016     12\n",
       "1457  2016     12\n",
       "1458  2016     12\n",
       "1459  2016     12\n",
       "1460  2016     12"
      ]
     },
     "execution_count": 76,
     "metadata": {},
     "output_type": "execute_result"
    }
   ],
   "source": [
    "x.tail()"
   ]
  },
  {
   "cell_type": "code",
   "execution_count": 77,
   "id": "820534c5",
   "metadata": {},
   "outputs": [],
   "source": [
    "y = df2.iloc[:1461,1:2]     #training values"
   ]
  },
  {
   "cell_type": "code",
   "execution_count": 78,
   "id": "c0c160f7",
   "metadata": {},
   "outputs": [],
   "source": [
    "x_test = df2.iloc[1461:,2:] #test values"
   ]
  },
  {
   "cell_type": "code",
   "execution_count": 79,
   "id": "c752052c",
   "metadata": {},
   "outputs": [],
   "source": [
    "y_test = df2.iloc[1461:,1:2] #test values"
   ]
  },
  {
   "cell_type": "code",
   "execution_count": 80,
   "id": "143afa5b",
   "metadata": {},
   "outputs": [],
   "source": [
    "from sklearn.linear_model import LinearRegression\n",
    "reg = LinearRegression().fit(x, y)"
   ]
  },
  {
   "cell_type": "code",
   "execution_count": 81,
   "id": "dc7f312e",
   "metadata": {},
   "outputs": [],
   "source": [
    "y_pred = reg.predict(x_test)"
   ]
  },
  {
   "cell_type": "code",
   "execution_count": 82,
   "id": "0e12259a",
   "metadata": {},
   "outputs": [
    {
     "data": {
      "image/png": "[encoded data removed]",
      "text/plain": [
       "<Figure size 432x288 with 1 Axes>"
      ]
     },
     "metadata": {
      "needs_background": "light"
     },
     "output_type": "display_data"
    }
   ],
   "source": [
    "plt.scatter(df2.month[1461:],y_test, color ='b')\n",
    "plt.plot(df2.month[1461:],y_pred, color ='k')\n",
    "\n",
    "plt.show()"
   ]
  },
  {
   "cell_type": "code",
   "execution_count": 83,
   "id": "4e903440",
   "metadata": {},
   "outputs": [
    {
     "name": "stdout",
     "output_type": "stream",
     "text": [
      "MAE: 2369.990\n"
     ]
    }
   ],
   "source": [
    "from sklearn.metrics import mean_absolute_error\n",
    "mae = mean_absolute_error(y_test, y_pred)\n",
    "print('MAE: %.3f' % mae)"
   ]
  }
 ],
 "metadata": {
  "kernelspec": {
   "display_name": "Python 3",
   "language": "python",
   "name": "python3"
  },
  "language_info": {
   "codemirror_mode": {
    "name": "ipython",
    "version": 3
   },
   "file_extension": ".py",
   "mimetype": "text/x-python",
   "name": "python",
   "nbconvert_exporter": "python",
   "pygments_lexer": "ipython3",
   "version": "3.8.8"
  }
 },
 "nbformat": 4,
 "nbformat_minor": 5
}
