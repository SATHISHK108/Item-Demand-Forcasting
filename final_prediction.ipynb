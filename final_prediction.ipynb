{
 "cells": [
  {
   "cell_type": "code",
   "execution_count": 1,
   "id": "d473b6d7",
   "metadata": {},
   "outputs": [
    {
     "name": "stderr",
     "output_type": "stream",
     "text": [
      "Importing plotly failed. Interactive plots will not work.\n"
     ]
    }
   ],
   "source": [
    "import pandas as pd\n",
    "from fbprophet import Prophet"
   ]
  },
  {
   "cell_type": "code",
   "execution_count": 2,
   "id": "b98751ed",
   "metadata": {},
   "outputs": [],
   "source": [
    "df = pd.read_csv('train 2.csv')"
   ]
  },
  {
   "cell_type": "code",
   "execution_count": 3,
   "id": "0658d604",
   "metadata": {},
   "outputs": [],
   "source": [
    "#Created a dictionary of items\n",
    "\n",
    "var_holder = {}\n",
    " \n",
    "for i in range(1,51):\n",
    "    var_holder['item' + str(i)] = df[df['item']==i]\n",
    "    \n",
    "locals().update(var_holder)"
   ]
  },
  {
   "cell_type": "code",
   "execution_count": 4,
   "id": "28ab11d9",
   "metadata": {},
   "outputs": [],
   "source": [
    "def quarter(x):\n",
    "    df = pd.DataFrame(x.groupby('date')['sales'].sum())         #groupby date for ten stores in that particular item\n",
    "    df.reset_index(level=0,inplace=True)\n",
    "    df['date'] =  pd.to_datetime(df['date'])\n",
    "\n",
    "    var = {}\n",
    "\n",
    "    for i in range(len(df)):                                   #aggregating the data for 90days\n",
    "        if len(df[i:i+90]) ==90:\n",
    "            var[df['date'][i]] = df['sales'][i:(i+90)].sum()\n",
    "\n",
    "    locals().update(var)\n",
    "\n",
    "    agg = pd.DataFrame.from_dict(var,orient ='index')  \n",
    "    agg.reset_index(level=0,inplace=True)\n",
    "    agg.columns = ['ds','y']\n",
    "    m = Prophet()                                              #using fbprophet\n",
    "    m.fit(agg)\n",
    "    future = m.make_future_dataframe(periods=90)\n",
    "    forecast = m.predict(future)\n",
    "    return forecast[['ds', 'yhat', 'yhat_lower', 'yhat_upper']][-1:]"
   ]
  },
  {
   "cell_type": "code",
   "execution_count": 5,
   "id": "b1af6a31",
   "metadata": {},
   "outputs": [],
   "source": [
    "#for x in var_holder.values():\n",
    "#    print(quarter(x))"
   ]
  },
  {
   "cell_type": "code",
   "execution_count": 6,
   "id": "58305764",
   "metadata": {},
   "outputs": [
    {
     "name": "stderr",
     "output_type": "stream",
     "text": [
      "INFO:fbprophet:Disabling daily seasonality. Run prophet with daily_seasonality=True to override this.\n"
     ]
    },
    {
     "data": {
      "text/html": [
       "<div>\n",
       "<style scoped>\n",
       "    .dataframe tbody tr th:only-of-type {\n",
       "        vertical-align: middle;\n",
       "    }\n",
       "\n",
       "    .dataframe tbody tr th {\n",
       "        vertical-align: top;\n",
       "    }\n",
       "\n",
       "    .dataframe thead th {\n",
       "        text-align: right;\n",
       "    }\n",
       "</style>\n",
       "<table border=\"1\" class=\"dataframe\">\n",
       "  <thead>\n",
       "    <tr style=\"text-align: right;\">\n",
       "      <th></th>\n",
       "      <th>ds</th>\n",
       "      <th>yhat</th>\n",
       "      <th>yhat_lower</th>\n",
       "      <th>yhat_upper</th>\n",
       "    </tr>\n",
       "  </thead>\n",
       "  <tbody>\n",
       "    <tr>\n",
       "      <th>1826</th>\n",
       "      <td>2018-01-01</td>\n",
       "      <td>18285.344528</td>\n",
       "      <td>17735.762354</td>\n",
       "      <td>18844.430338</td>\n",
       "    </tr>\n",
       "  </tbody>\n",
       "</table>\n",
       "</div>"
      ],
      "text/plain": [
       "             ds          yhat    yhat_lower    yhat_upper\n",
       "1826 2018-01-01  18285.344528  17735.762354  18844.430338"
      ]
     },
     "execution_count": 6,
     "metadata": {},
     "output_type": "execute_result"
    }
   ],
   "source": [
    "quarter(var_holder['item1'])"
   ]
  },
  {
   "cell_type": "code",
   "execution_count": null,
   "id": "29318b60",
   "metadata": {},
   "outputs": [],
   "source": []
  },
  {
   "cell_type": "code",
   "execution_count": null,
   "id": "d95a1cbe",
   "metadata": {},
   "outputs": [],
   "source": []
  },
  {
   "cell_type": "code",
   "execution_count": null,
   "id": "d73ee69a",
   "metadata": {},
   "outputs": [],
   "source": []
  },
  {
   "cell_type": "code",
   "execution_count": null,
   "id": "789f3b3e",
   "metadata": {},
   "outputs": [],
   "source": []
  },
  {
   "cell_type": "code",
   "execution_count": null,
   "id": "36e9688f",
   "metadata": {},
   "outputs": [],
   "source": []
  },
  {
   "cell_type": "code",
   "execution_count": null,
   "id": "409f8a46",
   "metadata": {},
   "outputs": [],
   "source": []
  },
  {
   "cell_type": "code",
   "execution_count": null,
   "id": "9e56ea16",
   "metadata": {},
   "outputs": [],
   "source": []
  },
  {
   "cell_type": "code",
   "execution_count": null,
   "id": "c16b8146",
   "metadata": {},
   "outputs": [],
   "source": []
  }
 ],
 "metadata": {
  "kernelspec": {
   "display_name": "Python 3",
   "language": "python",
   "name": "python3"
  },
  "language_info": {
   "codemirror_mode": {
    "name": "ipython",
    "version": 3
   },
   "file_extension": ".py",
   "mimetype": "text/x-python",
   "name": "python",
   "nbconvert_exporter": "python",
   "pygments_lexer": "ipython3",
   "version": "3.8.8"
  }
 },
 "nbformat": 4,
 "nbformat_minor": 5
}
